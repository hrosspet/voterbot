{
 "cells": [
  {
   "cell_type": "code",
   "execution_count": 2,
   "metadata": {
    "collapsed": true
   },
   "outputs": [],
   "source": [
    "from pymongo import MongoClient\n",
    "client = MongoClient('mongodb://107.155.87.82:26999')\n",
    "db = client.get_database('steem_posts')\n",
    "db.authenticate(\"admin\",\"dmw]SR%u6Ct!\", source='admin')\n",
    "raw_posts = db.get_collection(\"raw_posts\")\n",
    "mlp = db.get_collection('manually_labeled_posts')"
   ]
  },
  {
   "cell_type": "code",
   "execution_count": 20,
   "metadata": {
    "collapsed": true
   },
   "outputs": [],
   "source": [
    "import pandas as pd\n",
    "import numpy as np\n",
    "import seaborn as sns\n",
    "import matplotlib.pylab as plt\n",
    "import bson"
   ]
  },
  {
   "cell_type": "code",
   "execution_count": 4,
   "metadata": {
    "collapsed": true
   },
   "outputs": [],
   "source": [
    "def total_weighted_rep(x):\n",
    "    return sum([rep*weight/10000 for rep, weight in x])\n",
    "\n",
    "def total_weighted_logrep(x):\n",
    "    return sum([np.log(max(rep, 1))*weight/10000 for rep, weight in x])"
   ]
  },
  {
   "cell_type": "code",
   "execution_count": 5,
   "metadata": {
    "collapsed": true
   },
   "outputs": [],
   "source": [
    "def normalize(ser):\n",
    "    ser[ser < 0] = 0\n",
    "    ser = np.log(ser + 1)\n",
    "    return ser / ser.max()\n",
    "\n",
    "def query_builder(tresholds):\n",
    "    neg_query = \" | \".join(['({} < {})'.format(metric, lower) for metric, (lower, _) in tresholds.items()])\n",
    "    pos_query = \" & \".join(['({} > {})'.format(metric, upper) for metric, (_, upper) in tresholds.items()])\n",
    "    return neg_query, pos_query\n",
    "\n",
    "def label_posts(df, tresholds):\n",
    "    neg_query, pos_query = query_builder(tresholds)\n",
    "    normed_df = df.loc[:, tresholds.keys()].apply(normalize)\n",
    "    neg = normed_df.eval(neg_query)\n",
    "    pos = normed_df.eval(pos_query)\n",
    "    return df[neg], df[pos]\n",
    "\n",
    "def label_posts_indexes(df, tresholds):\n",
    "    neg, pos = label_posts(df, tresholds)\n",
    "    return {'neg': neg.index, 'pos': pos.index}"
   ]
  },
  {
   "cell_type": "markdown",
   "metadata": {},
   "source": [
    "# getting labeled data"
   ]
  },
  {
   "cell_type": "raw",
   "metadata": {
    "collapsed": true
   },
   "source": [
    "# How I inserted that into mongo\n",
    "# not needed anymore\n",
    "\n",
    "df_l = (pd.read_csv('../data/articles_manually_labeled.csv')\n",
    "        .rename(columns={'Skore':'score'})\n",
    "        .iloc[:154]\n",
    "        .assign(link=lambda x: x['Link'].str.replace('https://steemit.com/', ''))\n",
    "        .drop('Link', axis=1)\n",
    "       )\n",
    "\n",
    "def convert_df_for_mongo(df):\n",
    "    return [x for _, x in df.to_dict(orient='index').items()]\n",
    "\n",
    "mlp = db.get_collection('manually_labeled_posts')\n",
    "\n",
    "mlp.insert_many(convert_df_for_mongo(combined_labeled))\n",
    "\n",
    "#combined_labeled = pd.merge(df_l, labeled_df, how='inner', on='link').rename(\n",
    "#    columns={'score_x': 'score'})\n",
    "#combined_labeled.shape"
   ]
  },
  {
   "cell_type": "code",
   "execution_count": 6,
   "metadata": {
    "collapsed": true
   },
   "outputs": [],
   "source": [
    "_db_labeled = mlp.find()\n",
    "db_labeled = [i for i in _db_labeled]"
   ]
  },
  {
   "cell_type": "code",
   "execution_count": 7,
   "metadata": {
    "collapsed": true
   },
   "outputs": [],
   "source": [
    "labeled_df = pd.DataFrame(db_labeled).set_index('link')"
   ]
  },
  {
   "cell_type": "code",
   "execution_count": 8,
   "metadata": {
    "collapsed": false
   },
   "outputs": [
    {
     "data": {
      "text/plain": [
       "(154, 49)"
      ]
     },
     "execution_count": 8,
     "metadata": {},
     "output_type": "execute_result"
    }
   ],
   "source": [
    "labeled_df.shape"
   ]
  },
  {
   "cell_type": "markdown",
   "metadata": {},
   "source": [
    "# Getting sample data"
   ]
  },
  {
   "cell_type": "code",
   "execution_count": 13,
   "metadata": {
    "collapsed": true
   },
   "outputs": [],
   "source": [
    "%%time\n",
    "N_sample = 10000\n",
    "_sample_data = raw_posts.aggregate([{'$sample':{\"size\": N_sample}}])\n",
    "sample_data = [i for i in _sample_data]"
   ]
  },
  {
   "cell_type": "code",
   "execution_count": 64,
   "metadata": {
    "collapsed": true
   },
   "outputs": [],
   "source": [
    "sample_df = pd.DataFrame(sample_data).set_index('_id')"
   ]
  },
  {
   "cell_type": "markdown",
   "metadata": {},
   "source": [
    "# Combining"
   ]
  },
  {
   "cell_type": "code",
   "execution_count": 66,
   "metadata": {
    "collapsed": false
   },
   "outputs": [
    {
     "data": {
      "text/plain": [
       "(10000, 45)"
      ]
     },
     "execution_count": 66,
     "metadata": {},
     "output_type": "execute_result"
    }
   ],
   "source": [
    "sample_df = sample_df.loc[~sample_df.identifier.isin(labeled_df.index)]\n",
    "sample_df.shape"
   ]
  },
  {
   "cell_type": "code",
   "execution_count": 67,
   "metadata": {
    "collapsed": true
   },
   "outputs": [],
   "source": [
    "comb = sample_df.append(labeled_df)"
   ]
  },
  {
   "cell_type": "code",
   "execution_count": 68,
   "metadata": {
    "collapsed": false
   },
   "outputs": [
    {
     "data": {
      "text/plain": [
       "0"
      ]
     },
     "execution_count": 68,
     "metadata": {},
     "output_type": "execute_result"
    }
   ],
   "source": [
    "comb.index.duplicated().sum()"
   ]
  },
  {
   "cell_type": "code",
   "execution_count": 69,
   "metadata": {
    "collapsed": false
   },
   "outputs": [
    {
     "data": {
      "text/plain": [
       "NaN     10001\n",
       " 0.0       48\n",
       " 1.0       20\n",
       " 3.0       20\n",
       " 4.0       18\n",
       " 2.0       16\n",
       " 5.0       13\n",
       " 6.0        8\n",
       " 8.0        5\n",
       " 7.0        4\n",
       " 9.0        1\n",
       "Name: score, dtype: int64"
      ]
     },
     "execution_count": 69,
     "metadata": {},
     "output_type": "execute_result"
    }
   ],
   "source": [
    "comb.score.value_counts(dropna=False)"
   ]
  },
  {
   "cell_type": "code",
   "execution_count": 10,
   "metadata": {
    "collapsed": true
   },
   "outputs": [],
   "source": [
    "def get_metrics(df):\n",
    "    df['active_votes'] = df['active_votes'].map(\n",
    "        lambda y: [(float(x['reputation']), float(x['weight'])) for x in y])\n",
    "    df['rep'] = df['active_votes'].map(total_weighted_rep)\n",
    "    df['logrep'] = df['active_votes'].map(total_weighted_logrep)\n",
    "    df['text_length'] = df['title'].str.len() + 1 + df['body'].str.len()\n",
    "    \n",
    "    return df"
   ]
  },
  {
   "cell_type": "code",
   "execution_count": 72,
   "metadata": {
    "collapsed": true
   },
   "outputs": [],
   "source": [
    "dfm = get_metrics(comb)"
   ]
  },
  {
   "cell_type": "code",
   "execution_count": 73,
   "metadata": {
    "collapsed": false
   },
   "outputs": [],
   "source": [
    "df_stats = dfm[['net_votes', 'total_payout', 'rep', \n",
    "               'logrep', 'text_length', 'score']]\n",
    "\n",
    "df_log_stats = df_stats.copy()\n",
    "df_log_stats[df_log_stats < 0] = 0\n",
    "df_log_stats = df_log_stats.applymap(lambda x: np.log(x + 1))\n",
    "maxes_log_stats = df_log_stats.max()"
   ]
  },
  {
   "cell_type": "markdown",
   "metadata": {},
   "source": [
    "# Test na sample 10k"
   ]
  },
  {
   "cell_type": "code",
   "execution_count": 58,
   "metadata": {
    "collapsed": false
   },
   "outputs": [
    {
     "name": "stdout",
     "output_type": "stream",
     "text": [
      "6708 404\n"
     ]
    }
   ],
   "source": [
    "tresholds = {\n",
    "    'net_votes': (0.32, 0.635), \n",
    "    'text_length': (0.43, 0.43)\n",
    "}\n",
    "\n",
    "neg, pos = label_posts(df_stats, tresholds)\n",
    "print(neg.shape[0], pos.shape[0])"
   ]
  },
  {
   "cell_type": "markdown",
   "metadata": {},
   "source": [
    "# Test na labelovaných datech"
   ]
  },
  {
   "cell_type": "code",
   "execution_count": 11,
   "metadata": {
    "collapsed": false
   },
   "outputs": [],
   "source": [
    "df_stats_labeled = get_metrics(labeled_df)"
   ]
  },
  {
   "cell_type": "code",
   "execution_count": 12,
   "metadata": {
    "collapsed": false
   },
   "outputs": [
    {
     "name": "stdout",
     "output_type": "stream",
     "text": [
      "86 16\n"
     ]
    }
   ],
   "source": [
    "tresholds = {\n",
    "    'net_votes': (0.32, 0.635), \n",
    "    'text_length': (0.43, 0.43)\n",
    "}\n",
    "\n",
    "neg, pos = label_posts(df_stats_labeled, tresholds)\n",
    "print(neg.shape[0], pos.shape[0])"
   ]
  },
  {
   "cell_type": "code",
   "execution_count": 13,
   "metadata": {
    "collapsed": false
   },
   "outputs": [
    {
     "data": {
      "text/plain": [
       "count    85.000000\n",
       "mean      1.705882\n",
       "std       1.944611\n",
       "min       0.000000\n",
       "25%       0.000000\n",
       "50%       1.000000\n",
       "75%       3.000000\n",
       "max       8.000000\n",
       "Name: score, dtype: float64"
      ]
     },
     "execution_count": 13,
     "metadata": {},
     "output_type": "execute_result"
    }
   ],
   "source": [
    "neg.score.describe()"
   ]
  },
  {
   "cell_type": "code",
   "execution_count": 14,
   "metadata": {
    "collapsed": false
   },
   "outputs": [
    {
     "data": {
      "text/plain": [
       "count    16.000000\n",
       "mean      5.875000\n",
       "std       2.247221\n",
       "min       2.000000\n",
       "25%       4.750000\n",
       "50%       6.500000\n",
       "75%       8.000000\n",
       "max       9.000000\n",
       "Name: score, dtype: float64"
      ]
     },
     "execution_count": 14,
     "metadata": {},
     "output_type": "execute_result"
    }
   ],
   "source": [
    "pos.score.describe()"
   ]
  },
  {
   "cell_type": "code",
   "execution_count": 30,
   "metadata": {
    "collapsed": false
   },
   "outputs": [
    {
     "data": {
      "text/plain": [
       "<matplotlib.axes._subplots.AxesSubplot at 0x7f48677dc588>"
      ]
     },
     "execution_count": 30,
     "metadata": {},
     "output_type": "execute_result"
    },
    {
     "data": {
      "image/png": "[encoded data removed]",
      "text/plain": [
       "<matplotlib.figure.Figure at 0x7f4867806cf8>"
      ]
     },
     "metadata": {},
     "output_type": "display_data"
    }
   ],
   "source": [
    "f, (ax1, ax2) = plt.subplots(1,2, figsize=(10,5))\n",
    "neg.score.hist(ax=ax1)\n",
    "pos.score.hist(ax=ax2)"
   ]
  },
  {
   "cell_type": "markdown",
   "metadata": {
    "collapsed": true
   },
   "source": [
    "Jde vidět, že to jistou separační schopnost dává - distribuce score v pozitivních článcích je větší, než v negativních a poměr pro tohle nastavení docela odpovídá. Asi 40 článků tímhle filterem nebylo vybráno vůbec. Confusion matrix by tady bylo asi nejlepší, nicméně je třeba vybrat treshold říznutí dobrých/špatných dle skore. \n",
    "\n",
    "Těch filtrů je samozřejmě možné vyzkoušet více, případně to obalit a udělat automatizovaně na styl gridsearch. Nicméně je otázka, jestli to chceme :-) . "
   ]
  },
  {
   "cell_type": "code",
   "execution_count": null,
   "metadata": {
    "collapsed": true
   },
   "outputs": [],
   "source": []
  }
 ],
 "metadata": {
  "kernelspec": {
   "display_name": "mathbase",
   "language": "python",
   "name": "mathbase"
  },
  "language_info": {
   "codemirror_mode": {
    "name": "ipython",
    "version": 3
   },
   "file_extension": ".py",
   "mimetype": "text/x-python",
   "name": "python",
   "nbconvert_exporter": "python",
   "pygments_lexer": "ipython3",
   "version": "3.6.0"
  }
 },
 "nbformat": 4,
 "nbformat_minor": 2
}
