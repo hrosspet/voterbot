{
 "cells": [
  {
   "cell_type": "markdown",
   "metadata": {},
   "source": [
    "## Check all past votes in last 7 days for frequent authors"
   ]
  },
  {
   "cell_type": "code",
   "execution_count": 8,
   "metadata": {},
   "outputs": [],
   "source": [
    "import pandas as pd\n",
    "from datetime import datetime, timedelta\n",
    "from steevebase.io import mongo_factory\n",
    "from voter.config import CONFIG\n",
    "\n",
    "mongo_address = CONFIG['DATABASE']['ADDRESS']\n",
    "db = mongo_factory(mongo_address)"
   ]
  },
  {
   "cell_type": "code",
   "execution_count": 9,
   "metadata": {},
   "outputs": [],
   "source": [
    "start_time = datetime.utcnow() - timedelta(days=7)\n",
    "query = {\n",
    "    'vote_time': {\n",
    "        '$gte': start_time\n",
    "    }\n",
    "}\n",
    "\n",
    "past_votes_col = db.get_collection(\"past_votes\")\n",
    "df_past_votes = pd.DataFrame([x for x in past_votes_col.find(query)])"
   ]
  },
  {
   "cell_type": "code",
   "execution_count": 10,
   "metadata": {},
   "outputs": [
    {
     "data": {
      "text/plain": [
       "(5308, 5)"
      ]
     },
     "execution_count": 10,
     "metadata": {},
     "output_type": "execute_result"
    }
   ],
   "source": [
    "df_past_votes.shape"
   ]
  },
  {
   "cell_type": "code",
   "execution_count": null,
   "metadata": {},
   "outputs": [],
   "source": [
    "query = {\n",
    "    'created': {\n",
    "        '$gte': start_time\n",
    "    }\n",
    "}\n",
    "df_past_voted_posts = pd.DataFrame([x for x in raw_posts_col.find(query)])"
   ]
  },
  {
   "cell_type": "code",
   "execution_count": null,
   "metadata": {},
   "outputs": [],
   "source": [
    "df_past_voted_posts[df_past_voted_posts['_id'].isin(df_past_votes['_id'])].shape"
   ]
  },
  {
   "cell_type": "code",
   "execution_count": null,
   "metadata": {},
   "outputs": [],
   "source": [
    "df_past_voted_posts[df_past_voted_posts['_id'].isin(df_past_votes['_id'])].created.max()"
   ]
  },
  {
   "cell_type": "code",
   "execution_count": null,
   "metadata": {},
   "outputs": [],
   "source": [
    "grps = df_past_voted_posts[df_past_voted_posts['_id'].isin(df_past_votes['_id'])].groupby('author')\n",
    "cc = grps.count()\n",
    "cc['_id'].sort_values(ascending=False)"
   ]
  },
  {
   "cell_type": "code",
   "execution_count": null,
   "metadata": {},
   "outputs": [],
   "source": [
    "(cc['_id'].sort_values(ascending=False) > 7).sum()"
   ]
  },
  {
   "cell_type": "code",
   "execution_count": null,
   "metadata": {},
   "outputs": [],
   "source": [
    "cc['_id'][cc['_id'] > 7].sum()"
   ]
  },
  {
   "cell_type": "code",
   "execution_count": null,
   "metadata": {},
   "outputs": [],
   "source": [
    "import matplotlib.pyplot as plt\n",
    "\n",
    "%matplotlib notebook\n",
    "\n",
    "plt.figure()\n",
    "cc['_id'].sort_values(ascending=False).iloc[1:].plot()\n",
    "\n",
    "plt.savefig('x_normal.png')"
   ]
  },
  {
   "cell_type": "code",
   "execution_count": null,
   "metadata": {},
   "outputs": [],
   "source": [
    "import matplotlib.pyplot as plt\n",
    "\n",
    "%matplotlib notebook\n",
    "\n",
    "plt.figure()\n",
    "plt.tight_layout()\n",
    "cc['_id'].sort_values(ascending=False).iloc[1:].plot()\n",
    "\n",
    "plt.savefig('x_tight.png', bbox_inches='tight')"
   ]
  },
  {
   "cell_type": "code",
   "execution_count": null,
   "metadata": {},
   "outputs": [],
   "source": [
    "def check_author_not_exploiting(post):\n",
    "    try:\n",
    "        author = post['author']\n",
    "    except PostDoesNotExist:\n",
    "        return False\n",
    "\n",
    "    # find out how many votes the author received in the past week\n",
    "    start_time = datetime.utcnow() - timedelta(days=7)\n",
    "    last_week = {'$gte': start_time}\n",
    "    query = {'author': author, 'created': last_week}\n",
    "    authors_posts, _ = load_data(db_address, 'raw_posts', query)\n",
    "    count = sum([1 for x in authors_posts if 'hr1' in [y['voter'] for y in x['active_votes']]])\n",
    "    print(count)\n",
    "\n",
    "#         return count < EXPLOIT_LIMIT\n",
    "    return count < 7"
   ]
  },
  {
   "cell_type": "code",
   "execution_count": null,
   "metadata": {},
   "outputs": [],
   "source": [
    "check_author_not_exploiting(Post('@bosssteemit/starbase-piattaforma-di-crowdfunding-con-token-blockchain-20171228t04730705z'))"
   ]
  }
 ],
 "metadata": {
  "kernelspec": {
   "display_name": "Python 3",
   "language": "python",
   "name": "python3"
  },
  "language_info": {
   "codemirror_mode": {
    "name": "ipython",
    "version": 3
   },
   "file_extension": ".py",
   "mimetype": "text/x-python",
   "name": "python",
   "nbconvert_exporter": "python",
   "pygments_lexer": "ipython3",
   "version": "3.6.4"
  }
 },
 "nbformat": 4,
 "nbformat_minor": 2
}
