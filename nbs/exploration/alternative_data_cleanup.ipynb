{
 "cells": [
  {
   "cell_type": "markdown",
   "metadata": {},
   "source": [
    "## Alternative data cleanup"
   ]
  },
  {
   "cell_type": "code",
   "execution_count": 1,
   "metadata": {},
   "outputs": [],
   "source": [
    "from steem.post import Post\n",
    "\n",
    "post_name = '@discoversteem/discover-steem-update-1'\n",
    "a = Post(post_name)"
   ]
  },
  {
   "cell_type": "code",
   "execution_count": 2,
   "metadata": {},
   "outputs": [
    {
     "data": {
      "text/plain": [
       "'<html>\\n<div class=\"text-justify\">\\n<p>\\nAfter a few days of testing our first version of recommendations we have some news to share. We\\'ve been trying to analyze our impact on the network and from the development of votes we received we see that overall <strong>there are more people who like our service</strong> than those who don\\'t. However, we already encountered a problem - our reputation has decreased. We looked for the reason and found out that a downvoted post receives votes with total -133% voting strength on average, while an upvoted post receives only 96% on average.\\n</p>\\n\\n<center><img src=\"https://steemitimages.com/DQmRMpgo4he7nB46eVVgc6hmnbhe4YVniB2UkS8PpavtaR7/test_1.png\"></center>\\n<p><i>*The big jumps are from trails. We are planning to remove them (or count them as one vote) from our recommendation logic as they don\\'t bring very relevant information.</i></p>\\n\\n<h2>How to improve</h2>\\n\\n<p><strong>Most of the negative votes come from the authors of the posts</strong> under which we placed our recommendations. We interpret this that authors don\\'t like comments which are not directly relevant to their posts, even though they might be relevant to their readers (such as our recommendations).</p>\\n\\n<p>Although we can understand their motivation we believe our recommendations are making Steem social network more connected and <strong>more useful for everybody</strong> -  both for the readers and for the authors. To make this more visible to the authors we decided to give them notice that we recommended them. The notice contains a link (links) to the recommendation.</p>\\n\\n<h2>Still in Alpha</h2>\\n\\n<p>We also received a few comments that the recommendations are not relevant. Well, first of all the recommendations are not made by hand (well that\\'s the whole point of our work ;)), so they won\\'t always be perfect, because the AI technology doesn\\'t have the intuition of a person. Secondly our alpha recommendation version is based on similarity given peoples votes. So the recommended posts are not supposed to be similar to the original post, but still should be relevant to the readers as they were liked by other readers of the post. We know that this simple approach has many drawbacks but it\\'s only the first step and we are working on improving it.<p>\\n\\n<h2>What next?</h2>\\n\\n<p>In the next version we want to better structure the recommendations so that the recommended posts would be more relevant in topics. We\\'ll bring this feature as soon as possible :)</p>\\n\\n<hr>\\n<h3>Who we are</h3>\\n<p>We are a team of AI enthusiasts who want to leaverage the technology for improving the user experience here on Steem blockchain. Read more in our <a href=\"https://steemit.com/introduceyourself/@discoversteem/discover-steem-connecting-good-authors-and-readers-who-want-more\">intro post</a>.</p>\\n<h3>Help us improve!</h3>\\n<p>Currently we are in early alpha. We are testing new things and we need your feedback! We appreciate <strong>any</strong> feedback -&nbsp;upvote, downvote or comment with ideas for improvement :)</p>\\n</div>\\n</html>'"
      ]
     },
     "execution_count": 2,
     "metadata": {},
     "output_type": "execute_result"
    }
   ],
   "source": [
    "a['body']"
   ]
  },
  {
   "cell_type": "code",
   "execution_count": 4,
   "metadata": {},
   "outputs": [
    {
     "data": {
      "text/plain": [
       "\"\\n\\n\\nAfter a few days of testing our first version of recommendations we have some news to share. We've been trying to analyze our impact on the network and from the development of votes we received we see that overall there are more people who like our service than those who don't. However, we already encountered a problem - our reputation has decreased. We looked for the reason and found out that a downvoted post receives votes with total -133% voting strength on average, while an upvoted post receives only 96% on average.\\n\\n\\n*The big jumps are from trails. We are planning to remove them (or count them as one vote) from our recommendation logic as they don't bring very relevant information.\\nHow to improve\\n\\nMost of the negative votes come from the authors of the posts under which we placed our recommendations. We interpret this that authors don't like comments which are not directly relevant to their posts, even though they might be relevant to their readers (such as our recommendations).\\n\\nAlthough we can understand their motivation we believe our recommendations are making Steem social network more connected and more useful for everybody -  both for the readers and for the authors. To make this more visible to the authors we decided to give them notice that we recommended them. The notice contains a link (links) to the recommendation.\\n\\nStill in Alpha\\n\\nWe also received a few comments that the recommendations are not relevant. Well, first of all the recommendations are not made by hand (well that's the whole point of our work ;)), so they won't always be perfect, because the AI technology doesn't have the intuition of a person. Secondly our alpha recommendation version is based on similarity given peoples votes. So the recommended posts are not supposed to be similar to the original post, but still should be relevant to the readers as they were liked by other readers of the post. We know that this simple approach has many drawbacks but it's only the first step and we are working on improving it.\\n\\nWhat next?\\n\\nIn the next version we want to better structure the recommendations so that the recommended posts would be more relevant in topics. We'll bring this feature as soon as possible :)\\n\\n\\nWho we are\\nWe are a team of AI enthusiasts who want to leaverage the technology for improving the user experience here on Steem blockchain. Read more in our intro post.\\nHelp us improve!\\nCurrently we are in early alpha. We are testing new things and we need your feedback! We appreciate any feedback -\\xa0upvote, downvote or comment with ideas for improvement :)\\n\\n\""
      ]
     },
     "execution_count": 4,
     "metadata": {},
     "output_type": "execute_result"
    }
   ],
   "source": [
    "from bs4 import BeautifulSoup\n",
    "from markdown import markdown\n",
    "\n",
    "html = markdown(a['body'])\n",
    "text = ''.join(BeautifulSoup(html).findAll(text=True))\n",
    "text"
   ]
  },
  {
   "cell_type": "code",
   "execution_count": 5,
   "metadata": {},
   "outputs": [],
   "source": [
    "def _remove_mess(line):\n",
    "    # strip markdown, images, etc., keep just text\n",
    "    html = markdown(line)\n",
    "    line = ''.join(BeautifulSoup(html, \"html5lib\").findAll(text=True)).strip()\n",
    "\n",
    "    # replace separators\n",
    "    line = line.replace(\"\\n\", \"+\").replace(\"\\r\", \"\").replace(\"\\\"\", \"'\")\n",
    "\n",
    "    # skip non-ascii characters\n",
    "    line = line.encode('utf-8', 'ignore').decode('ascii', 'ignore')\n",
    "\n",
    "    return line"
   ]
  },
  {
   "cell_type": "code",
   "execution_count": 6,
   "metadata": {},
   "outputs": [
    {
     "data": {
      "text/plain": [
       "\"After a few days of testing our first version of recommendations we have some news to share. We've been trying to analyze our impact on the network and from the development of votes we received we see that overall there are more people who like our service than those who don't. However, we already encountered a problem - our reputation has decreased. We looked for the reason and found out that a downvoted post receives votes with total -133% voting strength on average, while an upvoted post receives only 96% on average.+++*The big jumps are from trails. We are planning to remove them (or count them as one vote) from our recommendation logic as they don't bring very relevant information.+How to improve++Most of the negative votes come from the authors of the posts under which we placed our recommendations. We interpret this that authors don't like comments which are not directly relevant to their posts, even though they might be relevant to their readers (such as our recommendations).++Although we can understand their motivation we believe our recommendations are making Steem social network more connected and more useful for everybody -  both for the readers and for the authors. To make this more visible to the authors we decided to give them notice that we recommended them. The notice contains a link (links) to the recommendation.++Still in Alpha++We also received a few comments that the recommendations are not relevant. Well, first of all the recommendations are not made by hand (well that's the whole point of our work ;)), so they won't always be perfect, because the AI technology doesn't have the intuition of a person. Secondly our alpha recommendation version is based on similarity given peoples votes. So the recommended posts are not supposed to be similar to the original post, but still should be relevant to the readers as they were liked by other readers of the post. We know that this simple approach has many drawbacks but it's only the first step and we are working on improving it.++What next?++In the next version we want to better structure the recommendations so that the recommended posts would be more relevant in topics. We'll bring this feature as soon as possible :)+++Who we are+We are a team of AI enthusiasts who want to leaverage the technology for improving the user experience here on Steem blockchain. Read more in our intro post.+Help us improve!+Currently we are in early alpha. We are testing new things and we need your feedback! We appreciate any feedback -upvote, downvote or comment with ideas for improvement :)\""
      ]
     },
     "execution_count": 6,
     "metadata": {},
     "output_type": "execute_result"
    }
   ],
   "source": [
    "_remove_mess(a['body'])"
   ]
  },
  {
   "cell_type": "code",
   "execution_count": null,
   "metadata": {},
   "outputs": [],
   "source": []
  }
 ],
 "metadata": {
  "kernelspec": {
   "display_name": "Python 3",
   "language": "python",
   "name": "python3"
  },
  "language_info": {
   "codemirror_mode": {
    "name": "ipython",
    "version": 3
   },
   "file_extension": ".py",
   "mimetype": "text/x-python",
   "name": "python",
   "nbconvert_exporter": "python",
   "pygments_lexer": "ipython3",
   "version": "3.6.4"
  }
 },
 "nbformat": 4,
 "nbformat_minor": 2
}
